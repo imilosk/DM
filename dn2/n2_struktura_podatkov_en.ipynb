{
 "cells": [
  {
   "cell_type": "markdown",
   "metadata": {
    "lang": "en"
   },
   "source": [
    "### Data mining, 2nd homework, April 4, 2018\n",
    "\n",
    "# Search for structure in data"
   ]
  },
  {
   "cell_type": "markdown",
   "metadata": {
    "lang": "en"
   },
   "source": [
    "**Name and surname** **INSERT !!!**"
   ]
  },
  {
   "cell_type": "markdown",
   "metadata": {
    "lang": "en"
   },
   "source": [
    "By modeling, we try to find structure in the data. Using unsupervised modeling methods, we try to find groups of similar data or cases.\n",
    "\n",
    "In this homework you will use modeling of probability distributions for searching for outliers and methods for finding groups of similar cases (clustering)."
   ]
  },
  {
   "cell_type": "markdown",
   "metadata": {
    "lang": "en"
   },
   "source": [
    "## Data\n",
    "\n",
    "The description of the MovieLens database remains the same as for the first homework."
   ]
  },
  {
   "cell_type": "markdown",
   "metadata": {
    "lang": "en"
   },
   "source": [
    "## Questions\n",
    "\n",
    "By using the principles you have learned on exercises and lectures, answer the \n",
    "following questions. For each question, think carefully about the best way to give, show or justify the answer. The essential part is the answers to the\n",
    "questions and not so much the implementation of your solution."
   ]
  },
  {
   "cell_type": "markdown",
   "metadata": {
    "lang": "en"
   },
   "source": [
    "### 1. Finding outliers (50%)\n",
    "About the ratings of which movies are the users the least unified? In other words, for which films are the corresponding scores the most dispersed?\n",
    "\n",
    "Formulate the problem as modeling the probability distribution. Think about the following questions, make the appropriate experiments and answers."
   ]
  },
  {
   "cell_type": "code",
   "execution_count": 1,
   "metadata": {
    "collapsed": true
   },
   "outputs": [],
   "source": [
    "# kodo lahko razdelite v več celic"
   ]
  },
  {
   "cell_type": "markdown",
   "metadata": {
    "lang": "en"
   },
   "source": [
    "Answer: **You can write the answer in multiple cells**"
   ]
  },
  {
   "cell_type": "markdown",
   "metadata": {
    "lang": "en"
   },
   "source": [
    "### 1.1. question:\n",
    "\n",
    "What is the appropriate random variable (quantity) in the data that answers the question?"
   ]
  },
  {
   "cell_type": "code",
   "execution_count": 2,
   "metadata": {
    "collapsed": true
   },
   "outputs": [],
   "source": [
    "# kodo lahko razdelite v več celic"
   ]
  },
  {
   "cell_type": "markdown",
   "metadata": {
    "lang": "en"
   },
   "source": [
    "Answer: **You can write the answer in multiple cells**"
   ]
  },
  {
   "cell_type": "markdown",
   "metadata": {
    "lang": "en"
   },
   "source": [
    "### 1.2. question:\n",
    "Draw its distribution, for example, using a histogram."
   ]
  },
  {
   "cell_type": "code",
   "execution_count": 3,
   "metadata": {
    "collapsed": true
   },
   "outputs": [],
   "source": [
    "# kodo lahko razdelite v več celic"
   ]
  },
  {
   "cell_type": "markdown",
   "metadata": {
    "lang": "en"
   },
   "source": [
    "Answer: **You can write the answer in multiple cells**"
   ]
  },
  {
   "cell_type": "markdown",
   "metadata": {
    "lang": "en"
   },
   "source": [
    "### 1.3. question:\n",
    "\n",
    "Does the distribution remind you of a known distribution? Is the distribution possibly normal or some other?"
   ]
  },
  {
   "cell_type": "code",
   "execution_count": 4,
   "metadata": {
    "collapsed": true
   },
   "outputs": [],
   "source": [
    "# kodo lahko razdelite v več celic"
   ]
  },
  {
   "cell_type": "markdown",
   "metadata": {
    "lang": "en"
   },
   "source": [
    "Answer: **You can write the answer in multiple cells**"
   ]
  },
  {
   "cell_type": "markdown",
   "metadata": {
    "lang": "en"
   },
   "source": [
    "### 1.4. question:\n",
    "\n",
    "Assess the parameters of this distribution by means of the procedures we have learned at the exercises. From the distributions we have learned at the exercises, choose the one that best fits the data."
   ]
  },
  {
   "cell_type": "code",
   "execution_count": 5,
   "metadata": {
    "collapsed": true
   },
   "outputs": [],
   "source": [
    "# kodo lahko razdelite v več celic"
   ]
  },
  {
   "cell_type": "markdown",
   "metadata": {
    "lang": "en"
   },
   "source": [
    "Answer: **You can write the answer in multiple cells**"
   ]
  },
  {
   "cell_type": "markdown",
   "metadata": {
    "lang": "en"
   },
   "source": [
    "### 1.5. question:\n",
    "\n",
    "Print movies with the value of a random variable that falls in the top 5% of the statistically significant cases."
   ]
  },
  {
   "cell_type": "code",
   "execution_count": 6,
   "metadata": {
    "collapsed": true
   },
   "outputs": [],
   "source": [
    "# kodo lahko razdelite v več celic"
   ]
  },
  {
   "cell_type": "markdown",
   "metadata": {
    "lang": "en"
   },
   "source": [
    "Answer: **You can write the answer in multiple cells**"
   ]
  },
  {
   "cell_type": "markdown",
   "metadata": {
    "lang": "en"
   },
   "source": [
    "### 2. Clustering films (50%)\n",
    "\n",
    "Recommendation systems often detect groups of objects (in our example films), which are of high similarity.\n",
    "\n",
    "Find the 100 most watched movies. Are there groups among them?\n",
    "Use the appropriate clustering algorithm. We can watch the film as a vector where the\n",
    "number of components is equal to the number of users.\n",
    "\n",
    "Vectors also contain *unknown values*.\n",
    "An example of the vectors for ten films is shown in the table below.\n",
    "\n",
    "Clustering algorithms can be performed in the original space (the coordinate system films-users), or we can compare the films with the similarities we have learned on the exercises.\n",
    "Think about which method is more appropriate in terms of the data format."
   ]
  },
  {
   "cell_type": "markdown",
   "metadata": {},
   "source": [
    "| x          |Movie                                      | $u_0$ |$u_1$ | $u_2$ | $\\cdots$ |\n",
    "|------------|-------------------------------------------|:-----:|:----:|:------|:--------:|\n",
    "|$\\vec{x_0}$ | Fight Club (1999)                         | ?     | ?    | ?     | $\\cdots$ |\n",
    "|$\\vec{x_1}$ | Twelve Monkeys (a.k.a. 12 Monkeys) (1995) | ?     | ?    | 2.5   | $\\cdots$ |\n",
    "|$\\vec{x_2}$ | Independence Day (a.k.a. ID4) (1996)      | ?     | ?    | ?     | $\\cdots$ |\n",
    "|$\\vec{x_3}$ | Dances with  Wolves (1990)                | 4.0   | ?    | ?     | $\\cdots$ |\n",
    "|$\\vec{x_4}$ | Fargo (1996)                              | ?     | ?    | ?     | $\\cdots$ |\n",
    "|$\\vec{x_5}$ | Speed (1994)                              | ?     | ?    | ?     | $\\cdots$ |\n",
    "|$\\vec{x_6}$ | Apollo 13 (1995)                          | ?     | 2.0  | ?     | $\\cdots$ |\n",
    "|$\\vec{x_7}$ | Seven (a.k.a. Se7en) (1995)               | ?     | ?    | ?     | $\\cdots$ |\n",
    "|$\\vec{x_8}$ | Sixth Sense, The (1999)                   | 3.0   | ?    | 4.0   | $\\cdots$ |\n",
    "|$\\vec{x_9}$ | Aladdin (1992)                            | ?     | ?    | ?     | $\\cdots$ |\n",
    "|$\\cdots$    | $\\cdots$                                  | $\\cdots$ | $\\cdots$  | $\\cdots$ | $\\cdots$ |"
   ]
  },
  {
   "cell_type": "markdown",
   "metadata": {
    "lang": "en"
   },
   "source": [
    "In doing so, answer the following questions."
   ]
  },
  {
   "cell_type": "markdown",
   "metadata": {
    "lang": "en"
   },
   "source": [
    "### 2.1. question:\n",
    "\n",
    "Justify the choice of algorithm and similarity measures."
   ]
  },
  {
   "cell_type": "code",
   "execution_count": 7,
   "metadata": {
    "collapsed": true
   },
   "outputs": [],
   "source": [
    "# kodo lahko razdelite v več celic"
   ]
  },
  {
   "cell_type": "markdown",
   "metadata": {
    "lang": "en"
   },
   "source": [
    "Answer: **You can write the answer in multiple cells**"
   ]
  },
  {
   "cell_type": "markdown",
   "metadata": {
    "lang": "en"
   },
   "source": [
    "### 2.2. question:\n",
    "\n",
    "How many groups of films are among the selected? Do we know the quantitative estimates for the various grouping options?"
   ]
  },
  {
   "cell_type": "code",
   "execution_count": 8,
   "metadata": {
    "collapsed": true
   },
   "outputs": [],
   "source": [
    "# kodo lahko razdelite v več celic"
   ]
  },
  {
   "cell_type": "markdown",
   "metadata": {
    "lang": "en"
   },
   "source": [
    "Answer: **You can write the answer in multiple cells**"
   ]
  },
  {
   "cell_type": "markdown",
   "metadata": {
    "lang": "en"
   },
   "source": [
    "### 2.3. question:\n",
    "\n",
    "Display results using an appropriate visualization."
   ]
  },
  {
   "cell_type": "code",
   "execution_count": 9,
   "metadata": {
    "collapsed": true
   },
   "outputs": [],
   "source": [
    "# kodo lahko razdelite v več celic"
   ]
  },
  {
   "cell_type": "markdown",
   "metadata": {
    "lang": "en"
   },
   "source": [
    "Answer: **You can write the answer in multiple cells**"
   ]
  },
  {
   "cell_type": "markdown",
   "metadata": {
    "lang": "en"
   },
   "source": [
    "### 2.4. question:\n",
    "\n",
    "Comment on the validity of the results obtained."
   ]
  },
  {
   "cell_type": "code",
   "execution_count": 10,
   "metadata": {
    "collapsed": true
   },
   "outputs": [],
   "source": [
    "# kodo lahko razdelite v več celic"
   ]
  },
  {
   "cell_type": "markdown",
   "metadata": {
    "lang": "en"
   },
   "source": [
    "Answer: **You can write the answer in multiple cells**"
   ]
  }
 ],
 "metadata": {
  "kernelspec": {
   "display_name": "Python 3",
   "language": "python",
   "name": "python3"
  },
  "language_info": {
   "codemirror_mode": {
    "name": "ipython",
    "version": 3
   },
   "file_extension": ".py",
   "mimetype": "text/x-python",
   "name": "python",
   "nbconvert_exporter": "python",
   "pygments_lexer": "ipython3",
   "version": "3.6.3"
  },
  "latex_envs": {
   "LaTeX_envs_menu_present": true,
   "autocomplete": true,
   "bibliofile": "biblio.bib",
   "cite_by": "apalike",
   "current_citInitial": 1,
   "eqLabelWithNumbers": true,
   "eqNumInitial": 1,
   "hotkeys": {
    "equation": "Ctrl-E",
    "itemize": "Ctrl-I"
   },
   "labels_anchors": false,
   "latex_user_defs": false,
   "report_style_numbering": false,
   "user_envs_cfg": false
  },
  "nbTranslate": {
   "displayLangs": [
    "*"
   ],
   "hotkey": "alt-t",
   "langInMainMenu": true,
   "sourceLang": "sl",
   "targetLang": "en",
   "useGoogleTranslate": true
  }
 },
 "nbformat": 4,
 "nbformat_minor": 2
}
